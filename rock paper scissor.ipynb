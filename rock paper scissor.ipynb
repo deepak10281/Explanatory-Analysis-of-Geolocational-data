{
  "nbformat": 4,
  "nbformat_minor": 0,
  "metadata": {
    "colab": {
      "provenance": [],
      "authorship_tag": "ABX9TyNanTMCXognnNsqRT6I4vYO",
      "include_colab_link": true
    },
    "kernelspec": {
      "name": "python3",
      "display_name": "Python 3"
    },
    "language_info": {
      "name": "python"
    }
  },
  "cells": [
    {
      "cell_type": "markdown",
      "metadata": {
        "id": "view-in-github",
        "colab_type": "text"
      },
      "source": [
        "<a href=\"https://colab.research.google.com/github/deepak10281/Explanatory-Analysis-of-Geolocational-data/blob/main/rock%20paper%20scissor.ipynb\" target=\"_parent\"><img src=\"https://colab.research.google.com/assets/colab-badge.svg\" alt=\"Open In Colab\"/></a>"
      ]
    },
    {
      "cell_type": "code",
      "execution_count": 1,
      "metadata": {
        "id": "4HUYPtwS8Tgc"
      },
      "outputs": [],
      "source": [
        "import random\n",
        "import os\n",
        "import re"
      ]
    },
    {
      "cell_type": "code",
      "source": [
        "while (1<2):                 # creating a continuous loop\n",
        "    # Define Game\n",
        "    print (\"\\n\")\n",
        "    print (\"Rock, Paper, Scissors - Shoot!\")\n",
        "\n",
        "    # Taking input from user\n",
        "    userChoice = input(\"Choose your weapon [R]ock], [P]aper, [S]cissors, [E]xit: \")\n",
        "\n",
        "    # Validating the user input\n",
        "    if (not re.match(\"[SsRrPpEe]\", userChoice)) or (len(userChoice) != 1):\n",
        "        print (\"Please choose a letter:\")\n",
        "        print (\"[R]ock, [S]cissors, [P]aper or [E]xit\")\n",
        "        continue\n",
        "\n",
        "    # Print the user's choice\n",
        "    print (\"You chose: \" + userChoice)\n",
        "\n",
        "    # Check if user wants to exit\n",
        "    if (userChoice == 'E' or userChoice == 'e' ):\n",
        "        print('Exiting Game..')\n",
        "        break\n",
        "\n",
        "    # Create a list of possible choices\n",
        "    choices = ['R', 'P', 'S']\n",
        "\n",
        "    # Generating Computer's Choice\n",
        "    opponenetChoice = random.choice(choices)\n",
        "\n",
        "    # Print Computer's Choice\n",
        "    print (\"I chose: \" + opponenetChoice)\n",
        "\n",
        "    # Check Computer's Choice and user's Choice by applying game logic\n",
        "\n",
        "    if opponenetChoice == str.upper(userChoice):         # If both chose same value, it's a tie\n",
        "        print (\"Tie! \")\n",
        "\n",
        "    elif opponenetChoice == 'R' and userChoice.upper() == 'S':            # Rock Vs Scissor - Rock/computer Wins\n",
        "        print (\"Scissors beats rock, I win! \")\n",
        "        continue\n",
        "    elif opponenetChoice == 'S' and userChoice.upper() == 'P':            # Scissor Vs Paper - Paper/computer Wins\n",
        "        print (\"Scissors beats paper! I win! \")\n",
        "        continue\n",
        "    elif opponenetChoice == 'P' and userChoice.upper() == 'R':            # Paper Vs Rock - Paper/computer Wins\n",
        "        print (\"Paper beat rock, I win! \")\n",
        "        continue\n",
        "    else:                                                                 # In all the other cases, user wins!\n",
        "        print (\"You win!\")"
      ],
      "metadata": {
        "colab": {
          "base_uri": "https://localhost:8080/"
        },
        "id": "70LNCKFF8gC7",
        "outputId": "ca5293d2-c50e-4673-b249-59ff7cd87d5b"
      },
      "execution_count": 2,
      "outputs": [
        {
          "output_type": "stream",
          "name": "stdout",
          "text": [
            "\n",
            "\n",
            "Rock, Paper, Scissors - Shoot!\n",
            "Choose your weapon [R]ock], [P]aper, [S]cissors, [E]xit: p\n",
            "You chose: p\n",
            "I chose: S\n",
            "Scissors beats paper! I win! \n",
            "\n",
            "\n",
            "Rock, Paper, Scissors - Shoot!\n",
            "Choose your weapon [R]ock], [P]aper, [S]cissors, [E]xit: e\n",
            "You chose: e\n",
            "Exiting Game..\n"
          ]
        }
      ]
    }
  ]
}